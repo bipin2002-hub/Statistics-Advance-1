{
  "nbformat": 4,
  "nbformat_minor": 0,
  "metadata": {
    "colab": {
      "provenance": []
    },
    "kernelspec": {
      "name": "python3",
      "display_name": "Python 3"
    },
    "language_info": {
      "name": "python"
    }
  },
  "cells": [
    {
      "cell_type": "markdown",
      "source": [
        "#Statistics Advanced - 1| Assignment"
      ],
      "metadata": {
        "id": "cgxYezlKTYA1"
      }
    },
    {
      "cell_type": "markdown",
      "source": [
        "**Question 1: What is a random variable in probability theory?**"
      ],
      "metadata": {
        "id": "i4XxWBP9TqHD"
      }
    },
    {
      "cell_type": "markdown",
      "source": [
        "**Answer:**- A random variable in probability theory is a function that assigns a numerical value to each possible outcome of a random experiment.\n",
        "\n",
        "Essential context and supporting details:\n",
        "\n",
        "The domain of a random variable is the sample space—the set of all possible outcomes of the experiment.\n",
        "\n",
        "It is typically denoted by capital letters such as X, Y, or Z.\n",
        "\n",
        "A random variable can be either:\n",
        "\n",
        "**Discrete**:taking only specific values (such as the number of heads in coin tosses).\n",
        "\n",
        "**Continuous**:taking any value within an interval (such as a measurement that could be any number on a real scale)."
      ],
      "metadata": {
        "id": "XKRgzKQ0TuYK"
      }
    },
    {
      "cell_type": "markdown",
      "source": [
        "**Question 2: What are the types of random variables?**"
      ],
      "metadata": {
        "id": "AdYXqYM2UeNT"
      }
    },
    {
      "cell_type": "markdown",
      "source": [
        "**Answer**: The two main types of random variables in probability theory are discrete random variables and continuous random variables.\n",
        "\n",
        "**Discrete random variables:** These take on countable and specific values. They usually represent outcomes that can be listed, such as the number of heads in coin tosses or the roll of a die (values like 1, 2, 3, etc.). Probability for discrete random variables is described using a probability mass function (PMF).\n",
        "\n",
        "**Continuous random variables:** These can take on any value within a given range or interval, representing outcomes measured on a continuous scale—like height, time, or temperature (which could be 170.1 cm, 170.11 cm, and so on). Probability is assigned not to individual points, but to intervals, via a probability density function (PDF)."
      ],
      "metadata": {
        "id": "5QLrPKreUn8O"
      }
    },
    {
      "cell_type": "markdown",
      "source": [
        "**Question 3: Explain the difference between discrete and continuous distributions**"
      ],
      "metadata": {
        "id": "gqs1rsriVCYK"
      }
    },
    {
      "cell_type": "markdown",
      "source": [
        "**Answer:** The difference between discrete and continuous probability distributions lies in the nature of the random variables they describe and how their probabilities are assigned:\n",
        "\n",
        "**Discrete distributions** apply to random variables that take on countable, distinct values (e.g., integers like 1, 2, 3). Examples include the number of heads in coin tosses or the outcomes of a dice roll. The probability of each specific value can be calculated directly using a probability mass function (PMF), which assigns probabilities to these individual points. For example, the probability of rolling a 4 on a fair six-sided die is 1/6.\n",
        "\n",
        "**Continuous distribution**s apply to random variables that can take any value within an interval or range, potentially infinite and uncountable (e.g., any real value between 0 and 1). These variables represent measurements like height, weight, or time. Instead of probabilities at exact points (which are zero), probabilities are assigned to intervals via a probability density function (PDF). The total area under the PDF curve equals 1, and probabilities are calculated over intervals (e.g., the probability that height is between 170 cm and 180 cm).\n",
        "\n"
      ],
      "metadata": {
        "id": "_0JuiUrUVJLz"
      }
    },
    {
      "cell_type": "markdown",
      "source": [
        "**Question 4: What is a binomial distribution, and how is it used in probability?**"
      ],
      "metadata": {
        "id": "f45Oy6E5Vky2"
      }
    },
    {
      "cell_type": "markdown",
      "source": [
        "**Answer:**A **binomial distribution**is a discrete probability distribution that models the number of successes in a fixed number of independent trials, where each trial has exactly two possible outcomes: success or failure. It is based on Bernoulli trials, where each trial is independent and has the same probability of success.\n",
        "\n",
        "**Key characteristics of the binomial distribution include:**\n",
        "\n",
        ">.There is a fixed number of trials (n).\n",
        "\n",
        ">.Each trial has two possible outcomes: success (with probability p) or failure (with probability 1−p).\n",
        "\n",
        ">.The trials are independent; the outcome of one trial does not affect others.\n",
        "\n",
        ">.The distribution gives the probability of observing a specific number of successes (x) out of the n trials.\n",
        "\n",
        ">.The probability of getting exactly x successes in n trials is given by the binomial formula:\n",
        "\n",
        ">.The binomial distribution is widely used in probability and statistics to model situations with two outcomes per trial, such as coin tosses (heads or tails), pass/fail tests, quality control (defective or non-defective products), and many other applications. It helps calculate the likelihood of a given number of successes in scenarios where each attempt is identical and independent.\n",
        "\n",
        "For example, if we flip a fair coin 20 times, the binomial distribution can tell we the probability of getting exactly 6 heads. It is also used in fields like social science, finance, insurance, and more to model binary outcomes and assess probabilities of events happening a certain number of times.\n",
        "\n",
        "In summary, the binomial distribution is used in probability to quantify the chances of different numbers of successes occurring over a series of independent trials with two possible outcomes each. This makes it a fundamental tool for analyzing situations that can be simplified to success/failure type experiments."
      ],
      "metadata": {
        "id": "uQLs7wPPVqe3"
      }
    },
    {
      "cell_type": "markdown",
      "source": [
        "**Question 5: What is the standard normal distribution, and why is it important?**"
      ],
      "metadata": {
        "id": "RxWarku5WNW3"
      }
    },
    {
      "cell_type": "markdown",
      "source": [
        "**Answer:** The **standard normal distribution** is a special type of normal distribution characterized by having a mean of 0 and a standard deviation of 1. It is also known as the z-distribution. This distribution is symmetric and bell-shaped, centered at zero.\n",
        "\n",
        "In the standard normal distribution, individual values are expressed as z-scores, which represent how many standard deviations away a value is from the mean. A positive z-score means the value is above the mean, a negative z-score means it is below, and a z-score of zero means the value is exactly at the mean.\n",
        "\n",
        "**Why is the standard normal distribution important?**\n",
        "\n",
        ">-It provides a universal reference for any normal distribution by standardizing values, allowing comparisons across different datasets with different means and standard deviations.\n",
        "\n",
        ">-It simplifies probability calculations because the area under its curve corresponds to probabilities. For example, using z-scores, we can find the probability or percentage of data points falling within a certain range.\n",
        "\n",
        ">-It underpins many statistical procedures and hypothesis testing.\n",
        "\n",
        ">-The standard normal distribution follows the empirical rule (68-95-99.7 rule), meaning approximately 68% of data falls within 1 standard deviation, 95% within 2, and 99.7% within 3 standard deviations from the mean."
      ],
      "metadata": {
        "id": "I_bhFOaOWTLN"
      }
    },
    {
      "cell_type": "markdown",
      "source": [
        "**Question 6: What is the Central Limit Theorem (CLT), and why is it critical in statistics?**"
      ],
      "metadata": {
        "id": "eJk_GhuxXSQs"
      }
    },
    {
      "cell_type": "markdown",
      "source": [
        "**Answer:** The Central Limit Theorem (CLT) is a fundamental concept in statistics and probability theory. It states that when we take sufficiently large random samples from any population with a finite mean and variance, the distribution of the sample means will approximate a normal distribution (a bell-shaped curve), regardless of the original population's distribution shape. This means even if the population is not normally distributed—whether skewed, binomial, or otherwise—the sampling distribution of the mean becomes approximately normal as the sample size grows large enough (typically n > 30).\n",
        "\n",
        "**The CLT is critical in statistics for several reasons:**\n",
        "\n",
        "**Universal applicability**: It allows the use of normal distribution-based methods for inference and hypothesis testing across diverse types of data and distributions, simplifying analysis.\n",
        "\n",
        "**Estimation and inference**: Since the sample mean distribution is normal, statisticians can reliably estimate population parameters such as the mean and compute confidence intervals and p-values.\n",
        "\n",
        "Foundation for many methods **bold text**: It underpins numerous statistical techniques and justifies the use of the normal distribution in procedures like regression analysis, quality control, and survey sampling.\n",
        "\n",
        "**Practical usage in real-world data:** It enables handling large datasets and complex phenomena by treating sums or averages of independent random variables as normally distributed, even if individual variables are not.\n",
        "\n",
        "**Reduces variability:** As sample size increases, the variability (standard deviation) of the sampling distribution decreases proportionally to the inverse square root of sample size, enhancing precision."
      ],
      "metadata": {
        "id": "PU3R8iAMXWTl"
      }
    },
    {
      "cell_type": "markdown",
      "source": [
        "**Question 7: What is the significance of confidence intervals in statistical analysis?**"
      ],
      "metadata": {
        "id": "IGSQj8rPZqco"
      }
    },
    {
      "cell_type": "markdown",
      "source": [
        "**Answer:** - **Confidence intervals (CIs)**are significant in statistical analysis because they provide a range of values within which the true population parameter (such as a mean or proportion) is likely to lie, with a specified level of confidence (such as 95%). Rather than relying on a single point estimate, confidence intervals express the uncertainty or variability around that estimate, making the results more informative and reliable.:\n",
        "\n",
        "**Key points about the significance of confidence intervals include:**\n",
        "\n",
        ">-They quantify the uncertainty in an estimate based on sample data, helping to understand the precision of the estimate. Narrower intervals indicate more precise estimates, while wider intervals signal greater uncertainty.\n",
        "\n",
        ">-Confidence intervals facilitate statistical inference, allowing us to assess the range of plausible values for a population parameter and whether specific values (like zero) are included or excluded. This helps determine whether results are statistically significant.\n",
        "\n",
        ">-They assist in hypothesis testing: if a confidence interval does not include the null hypothesis value (e.g., zero difference), it implies statistical significance at the corresponding confidence level.\n",
        "\n",
        ">-Confidence intervals help distinguish between statistical significance and practical significance by showing the range of effect sizes, which informs decisions about the importance or impact of findings.\n",
        "\n",
        ">-They improve communication and interpretation by providing stakeholders with a clear range, including the margin of error, rather than just a single number.\n",
        "\n",
        ">-The confidence level (e.g., 95%) means that if the same study were repeated many times, the calculated confidence intervals would contain the true population parameter that percentage of times."
      ],
      "metadata": {
        "id": "qC603e-EZxnj"
      }
    },
    {
      "cell_type": "markdown",
      "source": [
        "**Question 8: What is the concept of expected value in a probability distribution?**"
      ],
      "metadata": {
        "id": "iunXwJM6alsZ"
      }
    },
    {
      "cell_type": "markdown",
      "source": [
        "**Answer:**  The expected value of a probability distribution is the long-run average or mean value that a random variable is expected to take based on its possible outcomes and their probabilities. It is calculated by multiplying each possible value of the random variable by the probability of that value occurring, and then summing all those products.\n",
        "\n",
        "In mathematical terms, for a discrete random variable\n",
        "\n",
        "X with possible values\n",
        "x\n",
        "i\n",
        "\n",
        "  and probabilities\n",
        "P(x\n",
        "i\n",
        " ), the expected value\n",
        "E(X) is:\n",
        "\n",
        "E(X)=\n",
        "∑\n",
        " x\n",
        "i\n",
        " ⋅P(x\n",
        "i\n",
        " )\n",
        " where i= 1,2,3,.....\n",
        "\n",
        "his concept represents the central tendency or the \"balancing point\" of the probability distribution, indicating what outcome we would expect on average if we repeated the random experiment many times.\n",
        "\n",
        ">-For continuous random variables, the expected value is computed similarly using an integral with the probability density function.\n",
        "\n",
        ">-The expected value is fundamental in statistics and probability because it provides a single summary measure of the distribution and is used in decision-making, predictions, and understanding the behavior of random processes over the long term."
      ],
      "metadata": {
        "id": "1d2db1JjaqEV"
      }
    },
    {
      "cell_type": "markdown",
      "source": [
        "**Question 9: Write a Python program to generate 1000 random numbers from a normal\n",
        "distribution with mean = 50 and standard deviation = 5. Compute its mean and standard.\n",
        "deviation using NumPy, and draw a histogram to visualize the distribution.**"
      ],
      "metadata": {
        "id": "f8iTlzHSdAco"
      }
    },
    {
      "cell_type": "code",
      "source": [
        "import numpy as np\n",
        "import matplotlib.pyplot as plt\n",
        "\n",
        "# Parameters for the normal distribution\n",
        "mean = 50\n",
        "std_dev = 5\n",
        "sample_size = 1000\n",
        "\n",
        "# Generate 1000 random numbers from the normal distribution.\n",
        "random_numbers = np.random.normal(loc=mean, scale=std_dev, size=sample_size)\n",
        "\n",
        "# calculate the mean and Standard deviation.\n",
        "calculated_mean = np.mean(random_numbers)\n",
        "calculated_std_dev = np.std(random_numbers)\n",
        "\n",
        "print(\"Sample Mean:\", calculated_mean)\n",
        "print(\"Sample Standard Deviation:\", calculated_std_dev)\n",
        "\n",
        "# Draw a histogram\n",
        "plt.hist(random_numbers, bins=30, edgecolor='black', alpha=0.7)\n",
        "plt.title('Histogram of Random Numbers from Normal Distribution')\n",
        "plt.xlabel('Value')\n",
        "plt.ylabel('Frequency')\n",
        "plt.show()"
      ],
      "metadata": {
        "colab": {
          "base_uri": "https://localhost:8080/",
          "height": 507
        },
        "id": "4t1whIV0djlx",
        "outputId": "2b816ebd-c062-4dfd-eb5e-7b5a26d232a0"
      },
      "execution_count": null,
      "outputs": [
        {
          "output_type": "stream",
          "name": "stdout",
          "text": [
            "Sample Mean: 50.18322233092204\n",
            "Sample Standard Deviation: 4.818815894581854\n"
          ]
        },
        {
          "output_type": "display_data",
          "data": {
            "text/plain": [
              "<Figure size 640x480 with 1 Axes>"
            ],
            "image/png": "[encoded data removed]"
          },
          "metadata": {}
        }
      ]
    },
    {
      "cell_type": "markdown",
      "source": [
        "**Question 10: You are working as a data analyst for a retail company. The company has\n",
        "collected daily sales data for 2 years and wants you to identify the overall sales trend.\n",
        "\n",
        "daily_sales = [220, 245, 210, 265, 230, 250, 260, 275, 240, 255,\n",
        "235, 260, 245, 250, 225, 270, 265, 255, 250, 260]\n",
        "\n",
        "● Explain how you would apply the Central Limit Theorem to estimate the average sales\n",
        "\n",
        "with a 95% confidence interval.\n",
        "● Write the Python code to compute the mean sales and its confidence interval.**"
      ],
      "metadata": {
        "id": "QQqNDBeFeirQ"
      }
    },
    {
      "cell_type": "markdown",
      "source": [
        "**Answer** **Applying the Central Limit Theorem**\n",
        "The CLT states that for large enough sample sizes, the sampling distribution of the sample mean will be approximately normally distributed, regardless of the underlying population distribution. This allows us to estimate the population mean sales by using the sample mean and standard deviation, and to construct confidence intervals around the estimate.\n",
        "\n",
        "Steps:\n",
        "\n",
        "Calculate the sample mean of the daily sales data.\n",
        "\n",
        "Step1. Calculate the sample standard deviation and the standard error of the mean (which is the sample std deviation divided by the square root of the sample size).\n",
        "\n",
        "step2. Use the t-distribution (since the sample size is small and population std dev unknown) to find the critical t-value for the desired confidence level (95%).\n",
        "\n",
        "step3. Compute the margin of error by multiplying the critical value by the standard error.\n",
        "\n",
        "step4. Construct the 95% confidence interval by adding and subtracting this margin of error from the sample mean.\n",
        "\n",
        "This interval gives a range where we are 95% confident the true average daily sales lie.\n"
      ],
      "metadata": {
        "id": "ozCTszNRfGAv"
      }
    },
    {
      "cell_type": "code",
      "source": [
        "import numpy as np\n",
        "from scipy import stats\n",
        "\n",
        "# Given daily sales data for 20 days\n",
        "daily_sales = np.array([220, 245, 210, 265, 230, 250, 260, 275, 240, 255,\n",
        "                        235, 260, 245, 250, 225, 270, 265, 255, 250, 260])\n",
        "\n",
        "# Calculate sample mean\n",
        "sample_mean = np.mean(daily_sales)\n",
        "\n",
        "# Calculate sample standard deviation (using ddof=1 for unbiased estimate)\n",
        "sample_std = np.std(daily_sales, ddof=1)\n",
        "\n",
        "# Sample size\n",
        "n = len(daily_sales)\n",
        "\n",
        "# Calculate standard error of the mean\n",
        "standard_error = sample_std / np.sqrt(n)\n",
        "\n",
        "# Find t-critical value for 95% confidence (two-tailed)\n",
        "t_critical = stats.t.ppf(0.975, df=n-1)  # degrees of freedom = n-1\n",
        "\n",
        "# Calculate margin of error\n",
        "margin_of_error = t_critical * standard_error\n",
        "\n",
        "# Calculate confidence interval\n",
        "confidence_interval_lower = sample_mean - margin_of_error\n",
        "confidence_interval_upper = sample_mean + margin_of_error\n",
        "\n",
        "print(\"Mean daily sales:\", sample_mean)\n",
        "print(\"95% Confidence Interval: [{:.2f}, {:.2f}]\".format(confidence_interval_lower, confidence_interval_upper))"
      ],
      "metadata": {
        "colab": {
          "base_uri": "https://localhost:8080/"
        },
        "id": "alahoFc_gGLF",
        "outputId": "1f2ba7c0-cd73-45a4-f479-1561b6316417"
      },
      "execution_count": null,
      "outputs": [
        {
          "output_type": "stream",
          "name": "stdout",
          "text": [
            "Mean daily sales: 248.25\n",
            "95% Confidence Interval: [240.17, 256.33]\n"
          ]
        }
      ]
    }
  ]
}